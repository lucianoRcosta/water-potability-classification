{
 "cells": [
  {
   "cell_type": "code",
   "execution_count": 10,
   "metadata": {},
   "outputs": [],
   "source": [
    "import pandas as pd\n",
    "from sklearn.model_selection import train_test_split\n",
    "from sklearn.metrics import precision_score, recall_score, f1_score, classification_report, accuracy_score\n",
    "from imblearn.over_sampling import SMOTE\n",
    "from sklearn.ensemble import GradientBoostingClassifier"
   ]
  },
  {
   "cell_type": "code",
   "execution_count": 11,
   "metadata": {},
   "outputs": [],
   "source": [
    "data = pd.read_csv('../data/water_potability_oversampled.csv').dropna()\n",
    "\n",
    "X = data.drop('Potability', axis=1)\n",
    "y = data['Potability']\n",
    "\n",
    "X_train, X_test, y_train, y_test = train_test_split(X, y, test_size=0.2, random_state=42)\n",
    "\n",
    "smote = SMOTE(random_state=42)\n",
    "X_resampled, y_resampled = smote.fit_resample(X_train, y_train)"
   ]
  },
  {
   "cell_type": "code",
   "execution_count": 12,
   "metadata": {},
   "outputs": [
    {
     "name": "stdout",
     "output_type": "stream",
     "text": [
      "Acurácia do modelo (Gradient Boosting): 66.67%\n",
      "Precision (Gradient Boosting): 0.68\n",
      "Recall (Gradient Boosting): 0.66\n",
      "F1-score (Gradient Boosting): 0.67\n",
      "\n",
      "Classification Report (Gradient Boosting):\n",
      "               precision    recall  f1-score   support\n",
      "\n",
      "           0       0.65      0.67      0.66       232\n",
      "           1       0.68      0.66      0.67       248\n",
      "\n",
      "    accuracy                           0.67       480\n",
      "   macro avg       0.67      0.67      0.67       480\n",
      "weighted avg       0.67      0.67      0.67       480\n",
      "\n"
     ]
    }
   ],
   "source": [
    "gb_classifier = GradientBoostingClassifier(random_state=42)\n",
    "\n",
    "gb_classifier.fit(X_resampled, y_resampled)\n",
    "\n",
    "gb_predictions = gb_classifier.predict(X_test)\n",
    "\n",
    "gb_accuracy = accuracy_score(y_test, gb_predictions)\n",
    "gb_precision = precision_score(y_test, gb_predictions)\n",
    "gb_recall = recall_score(y_test, gb_predictions)\n",
    "gb_f1 = f1_score(y_test, gb_predictions)\n",
    "\n",
    "print(f'Acurácia do modelo (Gradient Boosting): {gb_accuracy * 100:.2f}%')\n",
    "print(f'Precision (Gradient Boosting): {gb_precision:.2f}')\n",
    "print(f'Recall (Gradient Boosting): {gb_recall:.2f}')\n",
    "print(f'F1-score (Gradient Boosting): {gb_f1:.2f}')\n",
    "\n",
    "print('\\nClassification Report (Gradient Boosting):\\n', classification_report(y_test, gb_predictions))"
   ]
  },
  {
   "cell_type": "code",
   "execution_count": 16,
   "metadata": {},
   "outputs": [
    {
     "name": "stdout",
     "output_type": "stream",
     "text": [
      "Acurácia do modelo (Gradient Boosting): 73.96%\n",
      "Precision (Gradient Boosting): 0.75\n",
      "Recall (Gradient Boosting): 0.75\n",
      "F1-score (Gradient Boosting): 0.75\n",
      "\n",
      "Classification Report (Gradient Boosting):\n",
      "               precision    recall  f1-score   support\n",
      "\n",
      "           0       0.73      0.73      0.73       232\n",
      "           1       0.75      0.75      0.75       248\n",
      "\n",
      "    accuracy                           0.74       480\n",
      "   macro avg       0.74      0.74      0.74       480\n",
      "weighted avg       0.74      0.74      0.74       480\n",
      "\n"
     ]
    }
   ],
   "source": [
    "# classificador Gradient Boosting com hiperparâmetros ajustados\n",
    "gb_classifier = GradientBoostingClassifier(\n",
    "    n_estimators=500,  # Aumentar o número de árvores\n",
    "    learning_rate=0.1,  # Ajustar a taxa de aprendizado\n",
    "    max_depth=5,  # Ajustar a profundidade máxima das árvores\n",
    "    min_samples_split=2,\n",
    "    min_samples_leaf=1,\n",
    "    random_state=42\n",
    ")\n",
    "\n",
    "gb_classifier.fit(X_resampled, y_resampled)\n",
    "\n",
    "gb_predictions = gb_classifier.predict(X_test)\n",
    "\n",
    "gb_accuracy = accuracy_score(y_test, gb_predictions)\n",
    "gb_precision = precision_score(y_test, gb_predictions)\n",
    "gb_recall = recall_score(y_test, gb_predictions)\n",
    "gb_f1 = f1_score(y_test, gb_predictions)\n",
    "\n",
    "print(f'Acurácia do modelo (Gradient Boosting): {gb_accuracy * 100:.2f}%')\n",
    "print(f'Precision (Gradient Boosting): {gb_precision:.2f}')\n",
    "print(f'Recall (Gradient Boosting): {gb_recall:.2f}')\n",
    "print(f'F1-score (Gradient Boosting): {gb_f1:.2f}')\n",
    "\n",
    "print('\\nClassification Report (Gradient Boosting):\\n', classification_report(y_test, gb_predictions))"
   ]
  }
 ],
 "metadata": {
  "kernelspec": {
   "display_name": "Python 3",
   "language": "python",
   "name": "python3"
  },
  "language_info": {
   "codemirror_mode": {
    "name": "ipython",
    "version": 3
   },
   "file_extension": ".py",
   "mimetype": "text/x-python",
   "name": "python",
   "nbconvert_exporter": "python",
   "pygments_lexer": "ipython3",
   "version": "3.11.3"
  }
 },
 "nbformat": 4,
 "nbformat_minor": 2
}
