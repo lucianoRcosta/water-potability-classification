{
 "cells": [
  {
   "cell_type": "code",
   "execution_count": 1,
   "id": "0d8c577e-bf9b-4501-9bb5-1eaa1f90a183",
   "metadata": {},
   "outputs": [],
   "source": [
    "from imblearn.under_sampling import RandomUnderSampler\n",
    "from sklearn.model_selection import train_test_split\n",
    "from imblearn.over_sampling import SMOTE\n",
    "import pandas as pd"
   ]
  },
  {
   "cell_type": "code",
   "execution_count": 2,
   "id": "8f8dfe65-fed3-4860-abce-03a48f4b3066",
   "metadata": {},
   "outputs": [],
   "source": [
    "df = pd.read_csv(\"../data/water_potability.csv\").dropna()"
   ]
  },
  {
   "cell_type": "code",
   "execution_count": 3,
   "id": "a141a903-70c4-40ac-b482-5ed81f1343d9",
   "metadata": {},
   "outputs": [
    {
     "name": "stdout",
     "output_type": "stream",
     "text": [
      "Potability\n",
      "0    1200\n",
      "1     811\n",
      "Name: count, dtype: int64\n"
     ]
    }
   ],
   "source": [
    "print(df['Potability'].value_counts())"
   ]
  },
  {
   "cell_type": "code",
   "execution_count": 4,
   "id": "2f3a5d03-bf98-46c7-a346-9ac10d3025bf",
   "metadata": {},
   "outputs": [],
   "source": [
    "X = df.drop('Potability', axis=1)\n",
    "y = df['Potability']"
   ]
  },
  {
   "cell_type": "code",
   "execution_count": 5,
   "id": "da8f7228-d609-4d22-ab03-88df84d48302",
   "metadata": {},
   "outputs": [],
   "source": [
    "X_train, X_test, y_train, y_test = train_test_split(X, y, test_size=0.2, random_state=42)"
   ]
  },
  {
   "cell_type": "code",
   "execution_count": 6,
   "id": "e0818c19-60bd-4321-9bcf-1fcd8a01aab3",
   "metadata": {},
   "outputs": [],
   "source": [
    "smote = SMOTE(sampling_strategy='auto', random_state=42)"
   ]
  },
  {
   "cell_type": "code",
   "execution_count": 7,
   "id": "022adbaf-b9c9-44d4-a18b-59ea452f8ea5",
   "metadata": {},
   "outputs": [],
   "source": [
    "X_train_oversampled, y_train_oversampled = smote.fit_resample(X_train, y_train)"
   ]
  },
  {
   "cell_type": "code",
   "execution_count": 8,
   "id": "9dfbcef1-e4e5-439a-b946-e9b0add7234e",
   "metadata": {},
   "outputs": [],
   "source": [
    "combined_df_temp = pd.DataFrame(data=X_train_oversampled, columns=X_train.columns)\n",
    "combined_df_temp['Potability'] = y_train_oversampled"
   ]
  },
  {
   "cell_type": "code",
   "execution_count": 9,
   "id": "fbcec215-5290-44e6-a2e0-4fe3ed7ff78d",
   "metadata": {},
   "outputs": [],
   "source": [
    "combined_df = combined_df_temp.copy()"
   ]
  },
  {
   "cell_type": "code",
   "execution_count": 10,
   "id": "65ecd64e-4167-4ea5-930f-23561254cb5c",
   "metadata": {},
   "outputs": [
    {
     "data": {
      "text/html": [
       "<div>\n",
       "<style scoped>\n",
       "    .dataframe tbody tr th:only-of-type {\n",
       "        vertical-align: middle;\n",
       "    }\n",
       "\n",
       "    .dataframe tbody tr th {\n",
       "        vertical-align: top;\n",
       "    }\n",
       "\n",
       "    .dataframe thead th {\n",
       "        text-align: right;\n",
       "    }\n",
       "</style>\n",
       "<table border=\"1\" class=\"dataframe\">\n",
       "  <thead>\n",
       "    <tr style=\"text-align: right;\">\n",
       "      <th></th>\n",
       "      <th>ph</th>\n",
       "      <th>Hardness</th>\n",
       "      <th>Solids</th>\n",
       "      <th>Chloramines</th>\n",
       "      <th>Sulfate</th>\n",
       "      <th>Conductivity</th>\n",
       "      <th>Organic_carbon</th>\n",
       "      <th>Trihalomethanes</th>\n",
       "      <th>Turbidity</th>\n",
       "      <th>Potability</th>\n",
       "    </tr>\n",
       "  </thead>\n",
       "  <tbody>\n",
       "    <tr>\n",
       "      <th>0</th>\n",
       "      <td>9.927024</td>\n",
       "      <td>208.490738</td>\n",
       "      <td>19666.992792</td>\n",
       "      <td>8.008618</td>\n",
       "      <td>340.237824</td>\n",
       "      <td>482.842435</td>\n",
       "      <td>11.360427</td>\n",
       "      <td>85.829113</td>\n",
       "      <td>4.051733</td>\n",
       "      <td>0</td>\n",
       "    </tr>\n",
       "    <tr>\n",
       "      <th>1</th>\n",
       "      <td>8.769676</td>\n",
       "      <td>215.368742</td>\n",
       "      <td>13969.438863</td>\n",
       "      <td>7.548543</td>\n",
       "      <td>322.799070</td>\n",
       "      <td>369.016667</td>\n",
       "      <td>18.919188</td>\n",
       "      <td>54.755214</td>\n",
       "      <td>3.776718</td>\n",
       "      <td>0</td>\n",
       "    </tr>\n",
       "    <tr>\n",
       "      <th>2</th>\n",
       "      <td>8.077261</td>\n",
       "      <td>125.302719</td>\n",
       "      <td>23931.282833</td>\n",
       "      <td>8.773162</td>\n",
       "      <td>317.693331</td>\n",
       "      <td>398.328789</td>\n",
       "      <td>15.279583</td>\n",
       "      <td>62.668356</td>\n",
       "      <td>4.279871</td>\n",
       "      <td>1</td>\n",
       "    </tr>\n",
       "    <tr>\n",
       "      <th>3</th>\n",
       "      <td>9.739562</td>\n",
       "      <td>166.948864</td>\n",
       "      <td>13623.160063</td>\n",
       "      <td>7.235922</td>\n",
       "      <td>385.059134</td>\n",
       "      <td>369.591289</td>\n",
       "      <td>12.322604</td>\n",
       "      <td>68.505852</td>\n",
       "      <td>2.568080</td>\n",
       "      <td>1</td>\n",
       "    </tr>\n",
       "    <tr>\n",
       "      <th>4</th>\n",
       "      <td>5.343075</td>\n",
       "      <td>211.662091</td>\n",
       "      <td>45166.912141</td>\n",
       "      <td>6.651801</td>\n",
       "      <td>279.767500</td>\n",
       "      <td>485.959717</td>\n",
       "      <td>19.682337</td>\n",
       "      <td>70.546862</td>\n",
       "      <td>4.240032</td>\n",
       "      <td>0</td>\n",
       "    </tr>\n",
       "    <tr>\n",
       "      <th>...</th>\n",
       "      <td>...</td>\n",
       "      <td>...</td>\n",
       "      <td>...</td>\n",
       "      <td>...</td>\n",
       "      <td>...</td>\n",
       "      <td>...</td>\n",
       "      <td>...</td>\n",
       "      <td>...</td>\n",
       "      <td>...</td>\n",
       "      <td>...</td>\n",
       "    </tr>\n",
       "    <tr>\n",
       "      <th>1933</th>\n",
       "      <td>7.884355</td>\n",
       "      <td>174.579348</td>\n",
       "      <td>18200.790694</td>\n",
       "      <td>8.234832</td>\n",
       "      <td>327.618381</td>\n",
       "      <td>509.482428</td>\n",
       "      <td>12.396684</td>\n",
       "      <td>57.718989</td>\n",
       "      <td>3.857503</td>\n",
       "      <td>1</td>\n",
       "    </tr>\n",
       "    <tr>\n",
       "      <th>1934</th>\n",
       "      <td>7.912346</td>\n",
       "      <td>194.860342</td>\n",
       "      <td>23044.468266</td>\n",
       "      <td>6.669170</td>\n",
       "      <td>291.768783</td>\n",
       "      <td>505.023040</td>\n",
       "      <td>11.448722</td>\n",
       "      <td>75.098812</td>\n",
       "      <td>4.027019</td>\n",
       "      <td>1</td>\n",
       "    </tr>\n",
       "    <tr>\n",
       "      <th>1935</th>\n",
       "      <td>7.294201</td>\n",
       "      <td>238.976002</td>\n",
       "      <td>22606.689398</td>\n",
       "      <td>4.472651</td>\n",
       "      <td>299.206166</td>\n",
       "      <td>364.367919</td>\n",
       "      <td>16.882361</td>\n",
       "      <td>72.592698</td>\n",
       "      <td>3.783542</td>\n",
       "      <td>1</td>\n",
       "    </tr>\n",
       "    <tr>\n",
       "      <th>1936</th>\n",
       "      <td>8.919103</td>\n",
       "      <td>215.587791</td>\n",
       "      <td>16539.985963</td>\n",
       "      <td>7.360210</td>\n",
       "      <td>318.249451</td>\n",
       "      <td>464.945144</td>\n",
       "      <td>10.124929</td>\n",
       "      <td>49.607370</td>\n",
       "      <td>3.072595</td>\n",
       "      <td>1</td>\n",
       "    </tr>\n",
       "    <tr>\n",
       "      <th>1937</th>\n",
       "      <td>6.675182</td>\n",
       "      <td>169.529617</td>\n",
       "      <td>24237.516219</td>\n",
       "      <td>7.528147</td>\n",
       "      <td>365.007289</td>\n",
       "      <td>380.593159</td>\n",
       "      <td>13.551909</td>\n",
       "      <td>88.747375</td>\n",
       "      <td>4.240432</td>\n",
       "      <td>1</td>\n",
       "    </tr>\n",
       "  </tbody>\n",
       "</table>\n",
       "<p>1938 rows × 10 columns</p>\n",
       "</div>"
      ],
      "text/plain": [
       "            ph    Hardness        Solids  Chloramines     Sulfate  \\\n",
       "0     9.927024  208.490738  19666.992792     8.008618  340.237824   \n",
       "1     8.769676  215.368742  13969.438863     7.548543  322.799070   \n",
       "2     8.077261  125.302719  23931.282833     8.773162  317.693331   \n",
       "3     9.739562  166.948864  13623.160063     7.235922  385.059134   \n",
       "4     5.343075  211.662091  45166.912141     6.651801  279.767500   \n",
       "...        ...         ...           ...          ...         ...   \n",
       "1933  7.884355  174.579348  18200.790694     8.234832  327.618381   \n",
       "1934  7.912346  194.860342  23044.468266     6.669170  291.768783   \n",
       "1935  7.294201  238.976002  22606.689398     4.472651  299.206166   \n",
       "1936  8.919103  215.587791  16539.985963     7.360210  318.249451   \n",
       "1937  6.675182  169.529617  24237.516219     7.528147  365.007289   \n",
       "\n",
       "      Conductivity  Organic_carbon  Trihalomethanes  Turbidity  Potability  \n",
       "0       482.842435       11.360427        85.829113   4.051733           0  \n",
       "1       369.016667       18.919188        54.755214   3.776718           0  \n",
       "2       398.328789       15.279583        62.668356   4.279871           1  \n",
       "3       369.591289       12.322604        68.505852   2.568080           1  \n",
       "4       485.959717       19.682337        70.546862   4.240032           0  \n",
       "...            ...             ...              ...        ...         ...  \n",
       "1933    509.482428       12.396684        57.718989   3.857503           1  \n",
       "1934    505.023040       11.448722        75.098812   4.027019           1  \n",
       "1935    364.367919       16.882361        72.592698   3.783542           1  \n",
       "1936    464.945144       10.124929        49.607370   3.072595           1  \n",
       "1937    380.593159       13.551909        88.747375   4.240432           1  \n",
       "\n",
       "[1938 rows x 10 columns]"
      ]
     },
     "metadata": {},
     "output_type": "display_data"
    }
   ],
   "source": [
    "display(combined_df)"
   ]
  },
  {
   "cell_type": "code",
   "execution_count": 12,
   "id": "39e972d8-3abb-428c-af5e-e8afa59ec83b",
   "metadata": {},
   "outputs": [
    {
     "name": "stdout",
     "output_type": "stream",
     "text": [
      "Potability\n",
      "0    969\n",
      "1    969\n",
      "Name: count, dtype: int64\n"
     ]
    }
   ],
   "source": [
    "print(combined_df['Potability'].value_counts())"
   ]
  },
  {
   "cell_type": "code",
   "execution_count": 13,
   "id": "bdf7483a-1949-425b-8f1f-a6ec90cbd7c3",
   "metadata": {},
   "outputs": [],
   "source": [
    "combined_df.to_csv('../data/water_potability_oversampled2.csv', index=False)"
   ]
  }
 ],
 "metadata": {
  "kernelspec": {
   "display_name": "Python 3 (ipykernel)",
   "language": "python",
   "name": "python3"
  },
  "language_info": {
   "codemirror_mode": {
    "name": "ipython",
    "version": 3
   },
   "file_extension": ".py",
   "mimetype": "text/x-python",
   "name": "python",
   "nbconvert_exporter": "python",
   "pygments_lexer": "ipython3",
   "version": "3.10.12"
  }
 },
 "nbformat": 4,
 "nbformat_minor": 5
}
