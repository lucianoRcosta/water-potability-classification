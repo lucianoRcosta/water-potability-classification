{
  "cells": [
    {
      "cell_type": "code",
      "execution_count": 2,
      "metadata": {},
      "outputs": [],
      "source": [
        "from elm_classifier import *\n",
        "import pandas as pd\n",
        "import numpy as np\n",
        "from sklearn.model_selection import train_test_split, cross_val_predict, cross_val_score, StratifiedKFold\n",
        "from sklearn.preprocessing import StandardScaler\n",
        "from sklearn.metrics import accuracy_score, classification_report\n",
        "from imblearn.over_sampling import RandomOverSampler\n",
        "from sklearn.base import BaseEstimator, ClassifierMixin\n",
        "from sklearn.utils.validation import check_X_y, check_array, check_is_fitted"
      ]
    },
    {
      "cell_type": "code",
      "execution_count": 10,
      "metadata": {},
      "outputs": [],
      "source": [
        "data = pd.read_csv('../data/water_potability.csv').dropna()\n",
        "\n",
        "X = data.drop('Potability', axis=1)\n",
        "y = data['Potability']\n",
        "\n",
        "X_train, X_test, y_train, y_test = train_test_split(X, y, test_size=0.2, random_state=42)\n",
        "\n",
        "scaler = StandardScaler()\n",
        "X_train_scaled = scaler.fit_transform(X_train)\n",
        "X_test_scaled = scaler.transform(X_test)"
      ]
    },
    {
      "cell_type": "code",
      "execution_count": 74,
      "metadata": {
        "colab": {
          "base_uri": "https://localhost:8080/"
        },
        "id": "4GF3lImkt6lh",
        "outputId": "95cbe546-64ac-46d7-f759-970064a3794f"
      },
      "outputs": [
        {
          "name": "stdout",
          "output_type": "stream",
          "text": [
            "Accuracy: 0.61\n"
          ]
        }
      ],
      "source": [
        "input_size = X_train_scaled.shape[1]\n",
        "hidden_size = 100  \n",
        "elm_model = ELMClassifier(input_size, hidden_size)\n",
        "elm_model.train(X_train_scaled, y_train)\n",
        "\n",
        "y_pred = elm_model.predict(X_test_scaled)\n",
        "\n",
        "accuracy = accuracy_score(y_test, y_pred)\n",
        "print(f'Accuracy: {accuracy:.2f}')"
      ]
    },
    {
      "cell_type": "code",
      "execution_count": 117,
      "metadata": {
        "colab": {
          "base_uri": "https://localhost:8080/"
        },
        "id": "WvDofMSzuptZ",
        "outputId": "9b86213f-c18e-40f7-cfec-1c54df30fc8b"
      },
      "outputs": [
        {
          "name": "stdout",
          "output_type": "stream",
          "text": [
            "Accuracy: 0.61\n",
            "Classification Report:\n",
            "               precision    recall  f1-score   support\n",
            "\n",
            "           0       0.62      0.83      0.71       231\n",
            "           1       0.58      0.33      0.42       172\n",
            "\n",
            "    accuracy                           0.61       403\n",
            "   macro avg       0.60      0.58      0.56       403\n",
            "weighted avg       0.61      0.61      0.59       403\n",
            "\n"
          ]
        }
      ],
      "source": [
        "input_size = X_train_scaled.shape[1]\n",
        "hidden_size = 100 \n",
        "elm_model = ELMClassifier(input_size, hidden_size)\n",
        "elm_model.train(X_train_scaled, y_train)\n",
        "\n",
        "y_pred = elm_model.predict(X_test_scaled)\n",
        "\n",
        "accuracy = accuracy_score(y_test, y_pred)\n",
        "print(f'Accuracy: {accuracy:.2f}')\n",
        "\n",
        "report = classification_report(y_test, y_pred)\n",
        "print(\"Classification Report:\\n\", report)\n"
      ]
    },
    {
      "cell_type": "code",
      "execution_count": 121,
      "metadata": {
        "colab": {
          "base_uri": "https://localhost:8080/"
        },
        "id": "7kmxZkGmu-UG",
        "outputId": "60eb26d5-9378-4d6e-8b9e-b7825fc7895b"
      },
      "outputs": [
        {
          "name": "stdout",
          "output_type": "stream",
          "text": [
            "Classification Report:\n",
            "               precision    recall  f1-score   support\n",
            "\n",
            "           0       0.58      0.53      0.56       231\n",
            "           1       0.44      0.49      0.46       172\n",
            "\n",
            "    accuracy                           0.51       403\n",
            "   macro avg       0.51      0.51      0.51       403\n",
            "weighted avg       0.52      0.51      0.52       403\n",
            "\n"
          ]
        }
      ],
      "source": [
        "oversampler = RandomOverSampler(random_state=42)\n",
        "X_train_resampled, y_train_resampled = oversampler.fit_resample(X_train_scaled, y_train)\n",
        "\n",
        "input_size = X_train_resampled.shape[1]\n",
        "hidden_size = 100  \n",
        "elm_model = ELMClassifier(input_size, hidden_size)\n",
        "elm_model.train(X_train_resampled, y_train_resampled)\n",
        "\n",
        "y_pred = elm_model.predict(X_test_scaled)\n",
        "\n",
        "report = classification_report(y_test, y_pred)\n",
        "print(\"Classification Report:\\n\", report)"
      ]
    }
  ],
  "metadata": {
    "colab": {
      "provenance": []
    },
    "kernelspec": {
      "display_name": "Python 3",
      "name": "python3"
    },
    "language_info": {
      "codemirror_mode": {
        "name": "ipython",
        "version": 3
      },
      "file_extension": ".py",
      "mimetype": "text/x-python",
      "name": "python",
      "nbconvert_exporter": "python",
      "pygments_lexer": "ipython3",
      "version": "3.11.3"
    }
  },
  "nbformat": 4,
  "nbformat_minor": 0
}
