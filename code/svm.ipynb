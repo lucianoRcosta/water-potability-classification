{
 "cells": [
  {
   "cell_type": "code",
   "execution_count": 2,
   "metadata": {},
   "outputs": [],
   "source": [
    "import pandas as pd\n",
    "from sklearn.model_selection import train_test_split\n",
    "from sklearn.svm import SVC\n",
    "from sklearn.metrics import accuracy_score\n",
    "from sklearn.metrics import precision_score, recall_score, f1_score, classification_report\n",
    "from imblearn.over_sampling import SMOTE\n",
    "from sklearn.model_selection import GridSearchCV"
   ]
  },
  {
   "cell_type": "code",
   "execution_count": 3,
   "metadata": {},
   "outputs": [],
   "source": [
    "data = pd.read_csv('../data/water_potability_oversampled.csv').dropna()\n",
    "\n",
    "X = data.drop('Potability', axis=1)\n",
    "y = data['Potability']\n",
    "\n",
    "X_train, X_test, y_train, y_test = train_test_split(X, y, test_size=0.2, random_state=42)"
   ]
  },
  {
   "cell_type": "code",
   "execution_count": 4,
   "metadata": {},
   "outputs": [
    {
     "name": "stdout",
     "output_type": "stream",
     "text": [
      "Acurácia do modelo: 46.25%\n",
      "Precision: 0.49\n",
      "Recall: 0.66\n",
      "F1-score: 0.56\n",
      "\n",
      "Classification Report:\n",
      "               precision    recall  f1-score   support\n",
      "\n",
      "           0       0.41      0.25      0.31       232\n",
      "           1       0.49      0.66      0.56       248\n",
      "\n",
      "    accuracy                           0.46       480\n",
      "   macro avg       0.45      0.46      0.43       480\n",
      "weighted avg       0.45      0.46      0.44       480\n",
      "\n"
     ]
    }
   ],
   "source": [
    "svm_classifier = SVC(kernel='linear')\n",
    "\n",
    "svm_classifier.fit(X_train, y_train)\n",
    "\n",
    "predictions = svm_classifier.predict(X_test)\n",
    "\n",
    "\n",
    "accuracy = accuracy_score(y_test, predictions)\n",
    "print(f'Acurácia do modelo: {accuracy * 100:.2f}%')\n",
    "\n",
    "precision = precision_score(y_test, predictions)\n",
    "recall = recall_score(y_test, predictions)\n",
    "f1 = f1_score(y_test, predictions)\n",
    "\n",
    "print(f'Precision: {precision:.2f}')\n",
    "print(f'Recall: {recall:.2f}')\n",
    "print(f'F1-score: {f1:.2f}')\n",
    "\n",
    "print('\\nClassification Report:\\n', classification_report(y_test, predictions))"
   ]
  },
  {
   "cell_type": "code",
   "execution_count": 5,
   "metadata": {},
   "outputs": [],
   "source": [
    "# Balancear as classes usando oversampling (SMOTE)\n",
    "smote = SMOTE(random_state=42)\n",
    "X_resampled, y_resampled = smote.fit_resample(X_train, y_train)\n",
    "\n",
    "# Ajustar parâmetros usando GridSearchCV\n",
    "param_grid = {'C': [0.1, 1, 10, 100], 'kernel': ['linear', 'rbf', 'poly']}\n",
    "grid_search = GridSearchCV(SVC(), param_grid, cv=5, scoring='accuracy')\n",
    "grid_search.fit(X_resampled, y_resampled)\n",
    "\n",
    "# Exibir os melhores parâmetros encontrados pelo GridSearch\n",
    "print(\"Melhores parâmetros encontrados:\", grid_search.best_params_)\n",
    "\n",
    "# Criar o classificador SVM com os melhores parâmetros\n",
    "best_svm_classifier = grid_search.best_estimator_\n",
    "\n",
    "# Treinar o modelo com o conjunto de dados resampleado\n",
    "best_svm_classifier.fit(X_resampled, y_resampled)\n",
    "\n",
    "# Fazer previsões no conjunto de teste\n",
    "predictions = best_svm_classifier.predict(X_test)\n",
    "\n",
    "# Calcular e exibir precision, recall e f1-score\n",
    "precision = precision_score(y_test, predictions)\n",
    "recall = recall_score(y_test, predictions)\n",
    "f1 = f1_score(y_test, predictions)\n",
    "\n",
    "print(f'Acurácia do modelo: {accuracy * 100:.2f}%')\n",
    "print(f'Precision: {precision:.2f}')\n",
    "print(f'Recall: {recall:.2f}')\n",
    "print(f'F1-score: {f1:.2f}')\n",
    "\n",
    "# Mostrar a tabela de classificação\n",
    "print('\\nClassification Report:\\n', classification_report(y_test, predictions))"
   ]
  }
 ],
 "metadata": {
  "kernelspec": {
   "display_name": "Python 3",
   "language": "python",
   "name": "python3"
  },
  "language_info": {
   "codemirror_mode": {
    "name": "ipython",
    "version": 3
   },
   "file_extension": ".py",
   "mimetype": "text/x-python",
   "name": "python",
   "nbconvert_exporter": "python",
   "pygments_lexer": "ipython3",
   "version": "3.11.3"
  }
 },
 "nbformat": 4,
 "nbformat_minor": 2
}
